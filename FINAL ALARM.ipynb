{
 "cells": [
  {
   "cell_type": "code",
   "execution_count": 1,
   "metadata": {},
   "outputs": [],
   "source": [
    "import winsound,os, platform\n",
    "from time import sleep\n",
    "import ipywidgets as widgets\n",
    "from IPython.display import display\n"
   ]
  },
  {
   "cell_type": "code",
   "execution_count": null,
   "metadata": {},
   "outputs": [
    {
     "name": "stdout",
     "output_type": "stream",
     "text": [
      "When Would You Like To Set Your Alarm?\n",
      " (1) Hours\n",
      " (2) Minutes\n",
      " (3) Seconds\n",
      " (4) All\n"
     ]
    }
   ],
   "source": [
    "def sound():\n",
    "    for i in range(4): #numb of sounds\n",
    "        for j in range(4): #numb of beeps\n",
    "            \n",
    "            winsound.MessageBeep(-1) #the beep sound playing \n",
    "            \n",
    "            sleep(2) #time btwn beeps \n",
    "\n",
    "        \n",
    "        \n",
    "def alarm(n):\n",
    "    \n",
    "    print()\n",
    "    \n",
    "    print('Your Wait Time:', n, 'seconds.')\n",
    "    sleep(n) #Waitng how long to play the sound\n",
    "    \n",
    "    sound()\n",
    "\n",
    "\n",
    "def u_time(u_input):\n",
    "    \n",
    "    if u_input == '1':\n",
    "        \n",
    "        u_input = int(input('Enter the Hour: '))\n",
    "        \n",
    "        wait = u_input *60 *60  \n",
    "        \n",
    "        alarm(wait)\n",
    "    elif u_input == '2':\n",
    "        \n",
    "        u_input = int(input('Enter the Minutes: '))\n",
    "        \n",
    "        wait = u_input *60 \n",
    "        \n",
    "        alarm(wait)\n",
    "        \n",
    "    elif u_input == '3':\n",
    "        \n",
    "        u_input = int(input(\"Enter the Seconds: \"))\n",
    "        \n",
    "        wait = u_input\n",
    "        \n",
    "        alarm(wait)\n",
    "    elif u_input == '4':\n",
    "        \n",
    "        hours = int(input('Hours: '))\n",
    "        minutes = int(input('Minutes: '))\n",
    "        seconds = int(input('Seconds: '))\n",
    "        \n",
    "        \n",
    "        wait = ((hours*60)*60) + (minutes*60) + seconds\n",
    "        \n",
    "        print(wait)\n",
    "        alarm(wait)\n",
    "    else:\n",
    "        try: \n",
    "            os.system('cls')\n",
    "            main()\n",
    "            \n",
    "        except:\n",
    "            \n",
    "            os.system('clear')\n",
    "            main()\n",
    "            \n",
    "def main(): \n",
    "    print(\"\"\"When Would You Like To Set Your Alarm?\\n (1) Hours\\n (2) Minutes\\n (3) Seconds\\n (4) All\"\"\")\n",
    "    main_input = input(\": \")\n",
    "          \n",
    "    u_time(main_input)\n",
    "          \n",
    "    return;\n",
    "main()"
   ]
  },
  {
   "cell_type": "code",
   "execution_count": null,
   "metadata": {},
   "outputs": [],
   "source": []
  },
  {
   "cell_type": "code",
   "execution_count": null,
   "metadata": {},
   "outputs": [],
   "source": []
  }
 ],
 "metadata": {
  "kernelspec": {
   "display_name": "Python 3",
   "language": "python",
   "name": "python3"
  },
  "language_info": {
   "codemirror_mode": {
    "name": "ipython",
    "version": 3
   },
   "file_extension": ".py",
   "mimetype": "text/x-python",
   "name": "python",
   "nbconvert_exporter": "python",
   "pygments_lexer": "ipython3",
   "version": "3.7.3"
  }
 },
 "nbformat": 4,
 "nbformat_minor": 2
}
